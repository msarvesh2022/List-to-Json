{
 "cells": [
  {
   "cell_type": "code",
   "execution_count": 1,
   "id": "e921b94c",
   "metadata": {},
   "outputs": [
    {
     "name": "stdout",
     "output_type": "stream",
     "text": [
      "Name: John\n",
      "Age: 25\n",
      "\n",
      "Name: Jane\n",
      "Age: 30\n",
      "\n"
     ]
    }
   ],
   "source": [
    "import json\n",
    "\n",
    "# JSON data representation using lists\n",
    "json_data = '[{\"name\": \"John\", \"age\": 25}, {\"name\": \"Jane\", \"age\": 30}]'\n",
    "\n",
    "# Parsing JSON data into a list\n",
    "data_list = json.loads(json_data)\n",
    "\n",
    "# Accessing values from the list\n",
    "for item in data_list:\n",
    "    print(\"Name:\", item[\"name\"])\n",
    "    print(\"Age:\", item[\"age\"])\n",
    "    print()\n"
   ]
  },
  {
   "cell_type": "code",
   "execution_count": null,
   "id": "62d601b0",
   "metadata": {},
   "outputs": [],
   "source": []
  }
 ],
 "metadata": {
  "kernelspec": {
   "display_name": "Python 3 (ipykernel)",
   "language": "python",
   "name": "python3"
  },
  "language_info": {
   "codemirror_mode": {
    "name": "ipython",
    "version": 3
   },
   "file_extension": ".py",
   "mimetype": "text/x-python",
   "name": "python",
   "nbconvert_exporter": "python",
   "pygments_lexer": "ipython3",
   "version": "3.11.2"
  }
 },
 "nbformat": 4,
 "nbformat_minor": 5
}
